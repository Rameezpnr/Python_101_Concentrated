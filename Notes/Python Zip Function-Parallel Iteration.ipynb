{
 "cells": [
  {
   "cell_type": "code",
   "execution_count": 11,
   "id": "reduced-conditions",
   "metadata": {},
   "outputs": [],
   "source": [
    "lst1=[\"Krish\",\"Sam\",\"John\"]\n",
    "lst2=[\"a\",'b','c']"
   ]
  },
  {
   "cell_type": "code",
   "execution_count": 12,
   "id": "happy-device",
   "metadata": {},
   "outputs": [
    {
     "name": "stdout",
     "output_type": "stream",
     "text": [
      "Krish\n",
      "Sam\n",
      "John\n"
     ]
    }
   ],
   "source": [
    "for i in lst1:\n",
    "    print(i)"
   ]
  },
  {
   "cell_type": "code",
   "execution_count": 16,
   "id": "parental-birthday",
   "metadata": {},
   "outputs": [],
   "source": [
    "output=zip(lst1,lst2)"
   ]
  },
  {
   "cell_type": "code",
   "execution_count": 14,
   "id": "trained-gross",
   "metadata": {},
   "outputs": [
    {
     "data": {
      "text/plain": [
       "<zip at 0x1fe32768600>"
      ]
     },
     "execution_count": 14,
     "metadata": {},
     "output_type": "execute_result"
    }
   ],
   "source": [
    "output"
   ]
  },
  {
   "cell_type": "code",
   "execution_count": 15,
   "id": "right-portal",
   "metadata": {},
   "outputs": [
    {
     "data": {
      "text/plain": [
       "[('Krish', 'a'), ('Sam', 'b'), ('John', 'c')]"
      ]
     },
     "execution_count": 15,
     "metadata": {},
     "output_type": "execute_result"
    }
   ],
   "source": [
    "list(output)"
   ]
  },
  {
   "cell_type": "code",
   "execution_count": 17,
   "id": "unlikely-therapy",
   "metadata": {},
   "outputs": [
    {
     "data": {
      "text/plain": [
       "('Krish', 'a')"
      ]
     },
     "execution_count": 17,
     "metadata": {},
     "output_type": "execute_result"
    }
   ],
   "source": [
    "### zip object is an iterator\n",
    "#THis code will work if i initialize again\n",
    "next(output)"
   ]
  },
  {
   "cell_type": "code",
   "execution_count": 18,
   "id": "jewish-production",
   "metadata": {},
   "outputs": [],
   "source": [
    "lst1=[\"Krish\",\"Sam\",\"John\",4]\n",
    "lst2=[\"a\",'b','c']\n",
    "lst3=[1,2,3]"
   ]
  },
  {
   "cell_type": "code",
   "execution_count": 19,
   "id": "continuous-sender",
   "metadata": {},
   "outputs": [
    {
     "name": "stdout",
     "output_type": "stream",
     "text": [
      "Krish a 1\n",
      "Sam b 2\n",
      "John c 3\n"
     ]
    }
   ],
   "source": [
    "output=zip(lst1,lst2,lst3)\n",
    "for i,j,k in output:\n",
    "    print(i,j,k)"
   ]
  },
  {
   "cell_type": "code",
   "execution_count": 20,
   "id": "continuous-obligation",
   "metadata": {},
   "outputs": [
    {
     "data": {
      "text/plain": [
       "[]"
      ]
     },
     "execution_count": 20,
     "metadata": {},
     "output_type": "execute_result"
    }
   ],
   "source": [
    "list(zip())"
   ]
  },
  {
   "cell_type": "code",
   "execution_count": 21,
   "id": "solar-russia",
   "metadata": {},
   "outputs": [],
   "source": [
    "dict1={'name':'Krish','lst_name':'Naik','age':30}\n",
    "dict2={'name':'Amit','lst_name':'Verma','age':29}"
   ]
  },
  {
   "cell_type": "code",
   "execution_count": 38,
   "id": "collect-beauty",
   "metadata": {},
   "outputs": [],
   "source": [
    "dictionary=zip(dict1.items(),dict2.items())"
   ]
  },
  {
   "cell_type": "code",
   "execution_count": 23,
   "id": "prime-posting",
   "metadata": {},
   "outputs": [
    {
     "data": {
      "text/plain": [
       "{'name': 'Krish', 'lst_name': 'Naik', 'age': 30}"
      ]
     },
     "execution_count": 23,
     "metadata": {},
     "output_type": "execute_result"
    }
   ],
   "source": [
    "dict1"
   ]
  },
  {
   "cell_type": "code",
   "execution_count": 24,
   "id": "demanding-monroe",
   "metadata": {
    "scrolled": true
   },
   "outputs": [
    {
     "name": "stdout",
     "output_type": "stream",
     "text": [
      "name Krish\n",
      "name Amit\n",
      "lst_name Naik\n",
      "lst_name Verma\n",
      "age 30\n",
      "age 29\n"
     ]
    }
   ],
   "source": [
    "for (i,j),(i2,j2) in dictionary:\n",
    "    print(i, j)\n",
    "    print(i2,j2)"
   ]
  },
  {
   "cell_type": "code",
   "execution_count": null,
   "id": "constitutional-federation",
   "metadata": {},
   "outputs": [],
   "source": []
  },
  {
   "cell_type": "code",
   "execution_count": null,
   "id": "global-label",
   "metadata": {},
   "outputs": [],
   "source": []
  },
  {
   "cell_type": "code",
   "execution_count": null,
   "id": "agreed-compensation",
   "metadata": {},
   "outputs": [],
   "source": []
  },
  {
   "cell_type": "code",
   "execution_count": null,
   "id": "threaded-means",
   "metadata": {},
   "outputs": [],
   "source": []
  }
 ],
 "metadata": {
  "kernelspec": {
   "display_name": "Python 3 (ipykernel)",
   "language": "python",
   "name": "python3"
  },
  "language_info": {
   "codemirror_mode": {
    "name": "ipython",
    "version": 3
   },
   "file_extension": ".py",
   "mimetype": "text/x-python",
   "name": "python",
   "nbconvert_exporter": "python",
   "pygments_lexer": "ipython3",
   "version": "3.11.7"
  }
 },
 "nbformat": 4,
 "nbformat_minor": 5
}
